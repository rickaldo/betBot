{
 "metadata": {
  "language_info": {
   "codemirror_mode": {
    "name": "ipython",
    "version": 3
   },
   "file_extension": ".py",
   "mimetype": "text/x-python",
   "name": "python",
   "nbconvert_exporter": "python",
   "pygments_lexer": "ipython3",
   "version": "3.9.0-final"
  },
  "orig_nbformat": 2,
  "kernelspec": {
   "name": "standard",
   "display_name": "standard",
   "language": "python"
  }
 },
 "nbformat": 4,
 "nbformat_minor": 2,
 "cells": [
  {
   "cell_type": "code",
   "execution_count": 30,
   "metadata": {},
   "outputs": [
    {
     "output_type": "stream",
     "name": "stdout",
     "text": [
      "Database Connection Succesful\n"
     ]
    }
   ],
   "source": [
    "from dataprep import databaseHelper as dbhelper\n",
    "from fuzzywuzzy import fuzz, process\n",
    "import datetime\n",
    "\n",
    "#for connection with Database\n",
    "dbh = dbhelper.DatabaseHelper()\n",
    "connection = dbh.createDbConnection(\"localhost\", \"admin\", \"1234\",\"bot\")\n",
    "teams = dbh.getTeamnames(connection)\n",
    "\n",
    "#Fetch TeamID from Database, needs the Teams already fetched; \n",
    "#Optional Teams could be fetched in Method depends on Classstrukture later;\n",
    "#Home and Awayteam will Come from API or is entered via User\n",
    "def getTeamIDs(teams,hometeam,awayteam):\n",
    "    homeTeamID = \"\"\n",
    "    awayTeamID = \"\"\n",
    "\n",
    "    for i in teams:\n",
    "        if(fuzz.token_set_ratio(hometeam,i[1]) == 100):\n",
    "            homeTeamID = i[0]\n",
    "        elif(fuzz.token_set_ratio(awayteam,i[1]) == 100):\n",
    "            awayTeamID = i[0]\n",
    "    \n",
    "    if(homeTeamID == \"\"):\n",
    "        print(\"Fuck no HomeTeam found\")\n",
    "        return None\n",
    "    if(awayTeamID == \"\"):\n",
    "        print(\"Fuck no AwayTeam found\")\n",
    "        return None\n",
    "\n",
    "    return [homeTeamID,awayTeamID]\n",
    "\n",
    "#returns the Matches that the Teams played against each other.;\n",
    "#needs the Connection to the Database and the TeamIDArray\n",
    "def getMatchesOfTeams(connection, teamIDArray):\n",
    "    cursor = connection.cursor()\n",
    "    result = None\n",
    "    try:\n",
    "        cursor.execute(\"\"\"SELECT * FROM matches WHERE hometeamid=%s and awayteamid=%s or hometeamid=%s and awayteamid=%s\"\"\"%(teamIDArray[0],teamIDArray[1],teamIDArray[1],teamIDArray[0]))\n",
    "        result = cursor.fetchall()\n",
    "        return result\n",
    "    except Error as err:\n",
    "        print(f\"Error: '{err}'\")"
   ]
  },
  {
   "cell_type": "code",
   "execution_count": 32,
   "metadata": {},
   "outputs": [
    {
     "output_type": "stream",
     "name": "stdout",
     "text": [
      "[1, 28]\n109\n265\n434\n586\n723\n874\n1000\n1152\n1293\n1441\n1623\n1774\n1928\n2079\n2233\n2386\n2508\n2656\n2790\n2944\n3155\n3302\n"
     ]
    }
   ],
   "source": [
    "teamIDs = getTeamIDs(teams,\"Borussia Dortmund\", \"Bayern Munich\")\n",
    "print(test)\n",
    "matches = getMatchesOfTeams(connection, teamIDs)\n"
   ]
  }
 ]
}